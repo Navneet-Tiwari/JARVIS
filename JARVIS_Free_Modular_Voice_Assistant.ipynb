
# 📌 JARVIS (Free Modular Version) - Voice Assistant Base

# ✅ Setup: Install Required Libraries
!pip install -q transformers gtts speechrecognition pydub accelerate
!apt-get install -y ffmpeg

# ✅ Imports
import os
import torch
import time
import speech_recognition as sr
from gtts import gTTS
from pydub import AudioSegment
from transformers import pipeline

# ✅ Language Model Interface (Modular)
class LanguageModel:
    def __init__(self, model_name="google/flan-t5-base"):
        self.generator = pipeline("text2text-generation", model=model_name, device=0 if torch.cuda.is_available() else -1)

    def generate(self, prompt):
        response = self.generator(prompt, max_new_tokens=100)[0]['generated_text']
        return response

# ✅ Cost Estimator (Future GPT-4 API)
def estimate_cost(prompt, response, model_name="gpt-4"):
    input_tokens = len(prompt.split()) * 1.3  # Rough approximation
    output_tokens = len(response.split()) * 1.3

    if model_name == "gpt-4":
        cost = (input_tokens / 1000 * 0.01) + (output_tokens / 1000 * 0.03)
        return round(cost * 85, 2)  # Approx INR conversion
    return 0.0

# ✅ Text-to-Speech Output (gTTS)
def speak(text):
    tts = gTTS(text=text, lang='en')
    tts.save("response.mp3")
    sound = AudioSegment.from_file("response.mp3", format="mp3")
    sound.export("response.wav", format="wav")
    os.system("ffplay -nodisp -autoexit response.wav")

# ✅ Speech-to-Text Input (Using Microphone)
def listen():
    r = sr.Recognizer()
    with sr.Microphone() as source:
        print("🎤 Speak now...")
        audio = r.listen(source)
        try:
            text = r.recognize_google(audio)
            print(f"🗣️ You said: {text}")
            return text
        except sr.UnknownValueError:
            return "Sorry, I couldn't understand that."
        except sr.RequestError:
            return "Speech recognition failed."

# ✅ Main Assistant Loop (Run Continuously)
model = LanguageModel()  # Switch model here easily
while True:
    prompt = listen()
    if prompt.lower() in ["exit", "quit", "stop"]:
        print("👋 Exiting JARVIS.")
        break

    response = model.generate(prompt)
    print(f"🤖 JARVIS: {response}")
    speak(response)
    print(f"💸 Estimated GPT-4 cost (INR): ₹{estimate_cost(prompt, response)}")
